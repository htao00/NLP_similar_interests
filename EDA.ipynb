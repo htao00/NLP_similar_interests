{
 "cells": [
  {
   "cell_type": "code",
   "execution_count": 8,
   "metadata": {},
   "outputs": [],
   "source": [
    "import pandas as pd\n",
    "import matplotlib.pyplot as plt\n",
    "import seaborn as sns"
   ]
  },
  {
   "cell_type": "code",
   "execution_count": 6,
   "metadata": {},
   "outputs": [
    {
     "data": {
      "text/html": [
       "<div>\n",
       "<style scoped>\n",
       "    .dataframe tbody tr th:only-of-type {\n",
       "        vertical-align: middle;\n",
       "    }\n",
       "\n",
       "    .dataframe tbody tr th {\n",
       "        vertical-align: top;\n",
       "    }\n",
       "\n",
       "    .dataframe thead th {\n",
       "        text-align: right;\n",
       "    }\n",
       "</style>\n",
       "<table border=\"1\" class=\"dataframe\">\n",
       "  <thead>\n",
       "    <tr style=\"text-align: right;\">\n",
       "      <th></th>\n",
       "      <th>Name</th>\n",
       "      <th>Description</th>\n",
       "    </tr>\n",
       "  </thead>\n",
       "  <tbody>\n",
       "    <tr>\n",
       "      <th>0</th>\n",
       "      <td>Greg Kirczenow</td>\n",
       "      <td>I enjoy being outdoors in nature, trail runnin...</td>\n",
       "    </tr>\n",
       "    <tr>\n",
       "      <th>1</th>\n",
       "      <td>Nikita Neveditsin</td>\n",
       "      <td>I like hiking, swimming, traveling, enjoying n...</td>\n",
       "    </tr>\n",
       "    <tr>\n",
       "      <th>2</th>\n",
       "      <td>Pranay Malusare</td>\n",
       "      <td>I like reading books, playing cricket and bing...</td>\n",
       "    </tr>\n",
       "    <tr>\n",
       "      <th>3</th>\n",
       "      <td>Rishabh Khevaria</td>\n",
       "      <td>I enjoy activities like badminton, swimming an...</td>\n",
       "    </tr>\n",
       "    <tr>\n",
       "      <th>4</th>\n",
       "      <td>Raoof Naushad</td>\n",
       "      <td>I enjoy staying physically active, have a love...</td>\n",
       "    </tr>\n",
       "  </tbody>\n",
       "</table>\n",
       "</div>"
      ],
      "text/plain": [
       "                Name                                        Description\n",
       "0     Greg Kirczenow  I enjoy being outdoors in nature, trail runnin...\n",
       "1  Nikita Neveditsin  I like hiking, swimming, traveling, enjoying n...\n",
       "2    Pranay Malusare  I like reading books, playing cricket and bing...\n",
       "3   Rishabh Khevaria  I enjoy activities like badminton, swimming an...\n",
       "4      Raoof Naushad  I enjoy staying physically active, have a love..."
      ]
     },
     "execution_count": 6,
     "metadata": {},
     "output_type": "execute_result"
    }
   ],
   "source": [
    "data = pd.read_csv('data.csv')\n",
    "data.head()"
   ]
  },
  {
   "cell_type": "markdown",
   "metadata": {},
   "source": [
    "## Exploratory Data Analysis and Preprocessing\n",
    "In total 53 people responded to Greg's email"
   ]
  },
  {
   "cell_type": "code",
   "execution_count": 26,
   "metadata": {},
   "outputs": [
    {
     "data": {
      "image/png": "[encoded data removed]",
      "text/plain": [
       "<Figure size 432x288 with 1 Axes>"
      ]
     },
     "metadata": {
      "needs_background": "light"
     },
     "output_type": "display_data"
    },
    {
     "name": "stdout",
     "output_type": "stream",
     "text": [
      "         Name Description  desc_len\n",
      "20  Andy Wang          B👍         2\n",
      "          Name  \\\n",
      "43  Julius Sun   \n",
      "\n",
      "                                                                                                                                 Description  \\\n",
      "43  My favorite sport is football (the one not using hands), I try to play it everyweek. I also like to read history books and watch movies.   \n",
      "\n",
      "    desc_len  \n",
      "43       136  \n"
     ]
    }
   ],
   "source": [
    "#print(len(data))\n",
    "data['desc_len'] = data['Description'].str.len()\n",
    "plt.hist(data['desc_len'])\n",
    "plt.title('Description Length Distribution')\n",
    "plt.xlabel('Number of Characters')\n",
    "plt.ylabel('Count')\n",
    "plt.show()\n",
    "\n",
    "shortest_desc = data[data['desc_len'] == data['desc_len'].min()]\n",
    "longest_desc = data[data['desc_len'] == data['desc_len'].max()]\n",
    "print(shortest_desc)\n",
    "with pd.option_context('display.max_colwidth', 140):\n",
    "    print(longest_desc)"
   ]
  }
 ],
 "metadata": {
  "kernelspec": {
   "display_name": "mcda_pytorch",
   "language": "python",
   "name": "python3"
  },
  "language_info": {
   "codemirror_mode": {
    "name": "ipython",
    "version": 3
   },
   "file_extension": ".py",
   "mimetype": "text/x-python",
   "name": "python",
   "nbconvert_exporter": "python",
   "pygments_lexer": "ipython3",
   "version": "3.11.5"
  }
 },
 "nbformat": 4,
 "nbformat_minor": 2
}
